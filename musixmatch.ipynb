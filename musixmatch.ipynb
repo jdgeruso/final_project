{
 "cells": [
  {
   "cell_type": "code",
<<<<<<< HEAD
   "execution_count": 69,
=======
   "execution_count": 7,
>>>>>>> 33f9fa1271ab25f375f43bba7ceaf915876f121d
   "metadata": {},
   "outputs": [
    {
     "name": "stdout",
     "output_type": "stream",
     "text": [
<<<<<<< HEAD
      "Enter the title of the song or enter \"quit\" to stop: 9\n",
      "Enter the name of the artist: drake\n",
      "\n",
      "\n",
      "Cannot connect to the internet\n"
=======
      "annoying%20sentence%20that%20shound%20not%20have%20spaces\n"
>>>>>>> 33f9fa1271ab25f375f43bba7ceaf915876f121d
     ]
    }
   ],
   "source": [
<<<<<<< HEAD
    "try:\n",
    "    import requests\n",
    "    import json\n",
    "    #lists for the songs \n",
    "    songs = []\n",
    "    happy = []\n",
    "    sad = []\n",
    "    neut = []\n",
    "    \n",
    "    #the function for determining the mood of the song \n",
    "    def ScoreSentiment( positive_text, negative_text, input_text):\n",
    "        rate = 0\n",
    "        pos = positive_text.split()\n",
    "        neg = negative_text.split()\n",
    "        text = input_text.split()\n",
    "        for x in text:\n",
    "            if x in neg:\n",
    "                rate = rate - 1\n",
    "            if x in pos:\n",
    "                rate = rate + 1 \n",
    "        return (rate)\n",
    "\n",
    "    while True:\n",
    "        song_title = input('Enter the title of the song or enter \"quit\" to stop: ')\n",
    "        #this removes the spaces and replaces them wit %20 so the api can understand it\n",
    "        stitle = song_title.replace(' ', '%20')\n",
    "\n",
    "        if song_title == 'quit':\n",
    "            break\n",
    "\n",
    "        artist = input('Enter the name of the artist: ')\n",
    "        print('\\n')\n",
    "        #this removes the spaces and replaces them wit %20 so the api can understand it\n",
    "        art = artist.replace(' ', '%20')\n",
    "\n",
    "        songs.append({'artist' : artist , 'title' : song_title})\n",
    "\n",
    "        key = \"ff46c3844bff96cd0fd10eb67ce06f20\"\n",
    "        url = \"https://api.musixmatch.com/ws/1.1/matcher.lyrics.get?format=json&callback=callback&q_track=\" + stitle + \"&q_artist=\" + art + \"&apikey=\"+key\n",
    "        response = requests.get(url)\n",
    "        data = response.json()\n",
    "        input_text = data['message']['body'][\"lyrics\"]['lyrics_body']\n",
    "\n",
    "        while True:\n",
    "            #list of words that are positive or negative this determines the mood of the song\n",
    "            positive_text = (\"happy joy yay love enjoy smile yes electric amazing clap believer lucky together excite excitemnt loving wonderful sunshine summertime morning stronger vibe good sensation win winning open\")\n",
    "            negative_text = (\"sad angry hate hates dislike pain frown no not cry tears depression depressed anxiety nervous shaking lonely never hurts hurt black mad poison lost lose bleed bleeding loose over fuck tear cheat dump appoligize ugly cut sorry caught close lost dark drown fill void\")\n",
    "\n",
    "            ans = ScoreSentiment(positive_text, negative_text, input_text)\n",
    "            if ans <0: \n",
    "                #negative \n",
    "                sad.append({'artist' : artist , 'title' : song_title})\n",
    "            elif ans > 0:\n",
    "                #positive\n",
    "                happy.append({'artist' : artist , 'title' : song_title})\n",
    "            else: \n",
    "                #neutral\n",
    "                neut.append({'artist' : artist , 'title' : song_title})\n",
    "            break\n",
    "\n",
    "    print(\"Songs inputed:\")\n",
    "    for x in songs: \n",
    "        print(x['title'] , 'by' , x['artist'])\n",
    "        \n",
    "    print('\\n')\n",
    "    print(\"Happy songs:\")\n",
    "    for x in happy: \n",
    "        print(x['title'] , 'by' , x['artist'])\n",
    "\n",
    "    print('\\n')\n",
    "    print(\"Sad songs:\")\n",
    "    for x in sad: \n",
    "        print(x['title'] , 'by' , x['artist'])\n",
    "\n",
    "    print('\\n')\n",
    "    print(\"Neutral songs:\")\n",
    "    for x in neut: \n",
    "        print(x['title'] , 'by' , x['artist'])\n",
    "        \n",
    "except TypeError:\n",
    "    print('That is not a valid song or artist')\n",
    "\n",
    "except requests.exceptions.RequestException: \n",
    "    print(\"Cannot connect to the internet\")\n",
    "    \n"
=======
    "this = \"annoying sentence that shound not have spaces\"\n",
    "new=this.replace(' ', '%20')\n",
    "print (new)"
>>>>>>> 33f9fa1271ab25f375f43bba7ceaf915876f121d
   ]
  },
  {
   "cell_type": "code",
<<<<<<< HEAD
   "execution_count": 55,
   "metadata": {},
   "outputs": [
    {
     "data": {
      "text/plain": [
       "[{'artist': 'drake', 'title': '9'},\n",
       " {'artist': 'calvin harris', 'title': 'my way'},\n",
       " {'artist': 'lil dicky', 'title': 'earth'},\n",
       " {'artist': 'jaden', 'title': 'icon'},\n",
       " {'artist': '21 savage', 'title': 'a lot'},\n",
       " {'artist': 'mk', 'title': '17'}]"
      ]
     },
     "execution_count": 55,
     "metadata": {},
     "output_type": "execute_result"
    }
   ],
   "source": [
    "songs"
=======
   "execution_count": 23,
   "metadata": {},
   "outputs": [
    {
     "ename": "JSONDecodeError",
     "evalue": "Expecting value: line 1 column 1 (char 0)",
     "output_type": "error",
     "traceback": [
      "\u001b[0;31m---------------------------------------------------------------------------\u001b[0m",
      "\u001b[0;31mJSONDecodeError\u001b[0m                           Traceback (most recent call last)",
      "\u001b[0;32m<ipython-input-23-f28c6c22cd10>\u001b[0m in \u001b[0;36m<module>\u001b[0;34m\u001b[0m\n\u001b[1;32m      4\u001b[0m \u001b[0murl\u001b[0m \u001b[0;34m=\u001b[0m \u001b[0;34m\"https://api.musixmatch.com/ws/1.1/matcher.lyrics.get?format=jsonp&callback=callback&q_track=Gyalchester&q_artist=Drake&apikey=ff46c3844bff96cd0fd10eb67ce06f20\"\u001b[0m\u001b[0;34m\u001b[0m\u001b[0m\n\u001b[1;32m      5\u001b[0m \u001b[0mrequests\u001b[0m \u001b[0;34m=\u001b[0m \u001b[0mrequests\u001b[0m\u001b[0;34m.\u001b[0m\u001b[0mget\u001b[0m\u001b[0;34m(\u001b[0m\u001b[0murl\u001b[0m\u001b[0;34m)\u001b[0m\u001b[0;34m\u001b[0m\u001b[0m\n\u001b[0;32m----> 6\u001b[0;31m \u001b[0mthis\u001b[0m \u001b[0;34m=\u001b[0m \u001b[0mrequests\u001b[0m\u001b[0;34m.\u001b[0m\u001b[0mjson\u001b[0m\u001b[0;34m(\u001b[0m\u001b[0;34m)\u001b[0m\u001b[0;34m\u001b[0m\u001b[0m\n\u001b[0m\u001b[1;32m      7\u001b[0m \u001b[0mthis\u001b[0m\u001b[0;34m[\u001b[0m\u001b[0;34m'message'\u001b[0m\u001b[0;34m]\u001b[0m\u001b[0;34m[\u001b[0m\u001b[0;34m'body'\u001b[0m\u001b[0;34m]\u001b[0m\u001b[0;34m\u001b[0m\u001b[0m\n",
      "\u001b[0;32m/Library/Frameworks/Python.framework/Versions/3.6/lib/python3.6/site-packages/requests/models.py\u001b[0m in \u001b[0;36mjson\u001b[0;34m(self, **kwargs)\u001b[0m\n\u001b[1;32m    895\u001b[0m                     \u001b[0;31m# used.\u001b[0m\u001b[0;34m\u001b[0m\u001b[0;34m\u001b[0m\u001b[0m\n\u001b[1;32m    896\u001b[0m                     \u001b[0;32mpass\u001b[0m\u001b[0;34m\u001b[0m\u001b[0m\n\u001b[0;32m--> 897\u001b[0;31m         \u001b[0;32mreturn\u001b[0m \u001b[0mcomplexjson\u001b[0m\u001b[0;34m.\u001b[0m\u001b[0mloads\u001b[0m\u001b[0;34m(\u001b[0m\u001b[0mself\u001b[0m\u001b[0;34m.\u001b[0m\u001b[0mtext\u001b[0m\u001b[0;34m,\u001b[0m \u001b[0;34m**\u001b[0m\u001b[0mkwargs\u001b[0m\u001b[0;34m)\u001b[0m\u001b[0;34m\u001b[0m\u001b[0m\n\u001b[0m\u001b[1;32m    898\u001b[0m \u001b[0;34m\u001b[0m\u001b[0m\n\u001b[1;32m    899\u001b[0m     \u001b[0;34m@\u001b[0m\u001b[0mproperty\u001b[0m\u001b[0;34m\u001b[0m\u001b[0m\n",
      "\u001b[0;32m/Library/Frameworks/Python.framework/Versions/3.6/lib/python3.6/json/__init__.py\u001b[0m in \u001b[0;36mloads\u001b[0;34m(s, encoding, cls, object_hook, parse_float, parse_int, parse_constant, object_pairs_hook, **kw)\u001b[0m\n\u001b[1;32m    352\u001b[0m             \u001b[0mparse_int\u001b[0m \u001b[0;32mis\u001b[0m \u001b[0;32mNone\u001b[0m \u001b[0;32mand\u001b[0m \u001b[0mparse_float\u001b[0m \u001b[0;32mis\u001b[0m \u001b[0;32mNone\u001b[0m \u001b[0;32mand\u001b[0m\u001b[0;34m\u001b[0m\u001b[0m\n\u001b[1;32m    353\u001b[0m             parse_constant is None and object_pairs_hook is None and not kw):\n\u001b[0;32m--> 354\u001b[0;31m         \u001b[0;32mreturn\u001b[0m \u001b[0m_default_decoder\u001b[0m\u001b[0;34m.\u001b[0m\u001b[0mdecode\u001b[0m\u001b[0;34m(\u001b[0m\u001b[0ms\u001b[0m\u001b[0;34m)\u001b[0m\u001b[0;34m\u001b[0m\u001b[0m\n\u001b[0m\u001b[1;32m    355\u001b[0m     \u001b[0;32mif\u001b[0m \u001b[0mcls\u001b[0m \u001b[0;32mis\u001b[0m \u001b[0;32mNone\u001b[0m\u001b[0;34m:\u001b[0m\u001b[0;34m\u001b[0m\u001b[0m\n\u001b[1;32m    356\u001b[0m         \u001b[0mcls\u001b[0m \u001b[0;34m=\u001b[0m \u001b[0mJSONDecoder\u001b[0m\u001b[0;34m\u001b[0m\u001b[0m\n",
      "\u001b[0;32m/Library/Frameworks/Python.framework/Versions/3.6/lib/python3.6/json/decoder.py\u001b[0m in \u001b[0;36mdecode\u001b[0;34m(self, s, _w)\u001b[0m\n\u001b[1;32m    337\u001b[0m \u001b[0;34m\u001b[0m\u001b[0m\n\u001b[1;32m    338\u001b[0m         \"\"\"\n\u001b[0;32m--> 339\u001b[0;31m         \u001b[0mobj\u001b[0m\u001b[0;34m,\u001b[0m \u001b[0mend\u001b[0m \u001b[0;34m=\u001b[0m \u001b[0mself\u001b[0m\u001b[0;34m.\u001b[0m\u001b[0mraw_decode\u001b[0m\u001b[0;34m(\u001b[0m\u001b[0ms\u001b[0m\u001b[0;34m,\u001b[0m \u001b[0midx\u001b[0m\u001b[0;34m=\u001b[0m\u001b[0m_w\u001b[0m\u001b[0;34m(\u001b[0m\u001b[0ms\u001b[0m\u001b[0;34m,\u001b[0m \u001b[0;36m0\u001b[0m\u001b[0;34m)\u001b[0m\u001b[0;34m.\u001b[0m\u001b[0mend\u001b[0m\u001b[0;34m(\u001b[0m\u001b[0;34m)\u001b[0m\u001b[0;34m)\u001b[0m\u001b[0;34m\u001b[0m\u001b[0m\n\u001b[0m\u001b[1;32m    340\u001b[0m         \u001b[0mend\u001b[0m \u001b[0;34m=\u001b[0m \u001b[0m_w\u001b[0m\u001b[0;34m(\u001b[0m\u001b[0ms\u001b[0m\u001b[0;34m,\u001b[0m \u001b[0mend\u001b[0m\u001b[0;34m)\u001b[0m\u001b[0;34m.\u001b[0m\u001b[0mend\u001b[0m\u001b[0;34m(\u001b[0m\u001b[0;34m)\u001b[0m\u001b[0;34m\u001b[0m\u001b[0m\n\u001b[1;32m    341\u001b[0m         \u001b[0;32mif\u001b[0m \u001b[0mend\u001b[0m \u001b[0;34m!=\u001b[0m \u001b[0mlen\u001b[0m\u001b[0;34m(\u001b[0m\u001b[0ms\u001b[0m\u001b[0;34m)\u001b[0m\u001b[0;34m:\u001b[0m\u001b[0;34m\u001b[0m\u001b[0m\n",
      "\u001b[0;32m/Library/Frameworks/Python.framework/Versions/3.6/lib/python3.6/json/decoder.py\u001b[0m in \u001b[0;36mraw_decode\u001b[0;34m(self, s, idx)\u001b[0m\n\u001b[1;32m    355\u001b[0m             \u001b[0mobj\u001b[0m\u001b[0;34m,\u001b[0m \u001b[0mend\u001b[0m \u001b[0;34m=\u001b[0m \u001b[0mself\u001b[0m\u001b[0;34m.\u001b[0m\u001b[0mscan_once\u001b[0m\u001b[0;34m(\u001b[0m\u001b[0ms\u001b[0m\u001b[0;34m,\u001b[0m \u001b[0midx\u001b[0m\u001b[0;34m)\u001b[0m\u001b[0;34m\u001b[0m\u001b[0m\n\u001b[1;32m    356\u001b[0m         \u001b[0;32mexcept\u001b[0m \u001b[0mStopIteration\u001b[0m \u001b[0;32mas\u001b[0m \u001b[0merr\u001b[0m\u001b[0;34m:\u001b[0m\u001b[0;34m\u001b[0m\u001b[0m\n\u001b[0;32m--> 357\u001b[0;31m             \u001b[0;32mraise\u001b[0m \u001b[0mJSONDecodeError\u001b[0m\u001b[0;34m(\u001b[0m\u001b[0;34m\"Expecting value\"\u001b[0m\u001b[0;34m,\u001b[0m \u001b[0ms\u001b[0m\u001b[0;34m,\u001b[0m \u001b[0merr\u001b[0m\u001b[0;34m.\u001b[0m\u001b[0mvalue\u001b[0m\u001b[0;34m)\u001b[0m \u001b[0;32mfrom\u001b[0m \u001b[0;32mNone\u001b[0m\u001b[0;34m\u001b[0m\u001b[0m\n\u001b[0m\u001b[1;32m    358\u001b[0m         \u001b[0;32mreturn\u001b[0m \u001b[0mobj\u001b[0m\u001b[0;34m,\u001b[0m \u001b[0mend\u001b[0m\u001b[0;34m\u001b[0m\u001b[0m\n",
      "\u001b[0;31mJSONDecodeError\u001b[0m: Expecting value: line 1 column 1 (char 0)"
     ]
    }
   ],
   "source": [
    "import requests\n",
    "import json\n",
    "\n",
    "url = \"https://api.musixmatch.com/ws/1.1/matcher.lyrics.get?format=jsonp&callback=callback&q_track=Gyalchester&q_artist=Drake&apikey=ff46c3844bff96cd0fd10eb67ce06f20\"\n",
    "requests = requests.get(url)\n",
    "this = requests.json()\n",
    "this['message']['body']"
>>>>>>> 33f9fa1271ab25f375f43bba7ceaf915876f121d
   ]
  },
  {
   "cell_type": "code",
   "execution_count": null,
   "metadata": {},
   "outputs": [],
   "source": []
  }
 ],
 "metadata": {
  "kernelspec": {
   "display_name": "Python 3",
   "language": "python",
   "name": "python3"
  },
  "language_info": {
   "codemirror_mode": {
    "name": "ipython",
    "version": 3
   },
   "file_extension": ".py",
   "mimetype": "text/x-python",
   "name": "python",
   "nbconvert_exporter": "python",
   "pygments_lexer": "ipython3",
   "version": "3.6.6"
  }
 },
 "nbformat": 4,
 "nbformat_minor": 2
}
